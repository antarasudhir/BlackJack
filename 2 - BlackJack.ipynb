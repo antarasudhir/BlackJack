{
 "cells": [
  {
   "cell_type": "markdown",
   "id": "39954c8c",
   "metadata": {},
   "source": [
    "# Coding a game of BlackJack\n",
    "\n",
    "How the game works:\n",
    "- There is one Player and one Dealer\n",
    "- The Player is asked to place their bet (the Player starts off with 100 chips and cannot place a bet higher than the amount of   chips available)\n",
    "- Two cards are dealt to both the Dealer and Player\n",
    "- When revealing the Dealer's cards, one card remains hidden, while both cards of the Player are revealed\n",
    "- The Player then makes a choice: Hit or Stand \n",
    "- If the Player's hand is a value above 21, they lose\n",
    "- If the Player's  hand is a value less than 21, then they can make another choice to Hit or Stand\n",
    "- If the Dealer's hand is 17 or more, they lose\n",
    "- After the game ends, the Player can choose whether to play again or not"
   ]
  },
  {
   "cell_type": "markdown",
   "id": "1f551ca3",
   "metadata": {},
   "source": [
    "1. In order to create a deck of 52 cards, we need to set integer values, ranks and suits with 13 cards of each respective suit."
   ]
  },
  {
   "cell_type": "code",
   "execution_count": null,
   "id": "390f1bed",
   "metadata": {},
   "outputs": [],
   "source": [
    "import random\n",
    "\n",
    "values = {'Two':2, 'Three':3, 'Four':4, 'Five':5, 'Six':6, 'Seven':7, 'Eight':8, \n",
    "            'Nine':9, 'Ten':10, 'Jack':10, 'Queen':10, 'King':10, 'Ace':11}\n",
    "suits = ('Hearts', 'Diamonds', 'Spades', 'Clubs')\n",
    "ranks = ('Two', 'Three', 'Four', 'Five', 'Six', 'Seven', 'Eight', 'Nine', 'Ten', 'Jack', 'Queen', 'King', 'Ace')\n",
    "\n",
    "playing = True\n",
    "\n",
    "class Card():\n",
    "    \n",
    "    def __init__(self,suit,rank):\n",
    "        self.suit = suit\n",
    "        self.rank = rank\n",
    "        \n",
    "    def __str__(self):\n",
    "        return self.rank + \" of \" + self.suit\n"
   ]
  },
  {
   "cell_type": "markdown",
   "id": "709a3e05",
   "metadata": {},
   "source": [
    "2. After creating a Card Class (which contains two attributes: rank and suit), we need to create a Deck Class."
   ]
  },
  {
   "cell_type": "code",
   "execution_count": null,
   "id": "0244ccf8",
   "metadata": {},
   "outputs": [],
   "source": [
    "class Deck():\n",
    "    \n",
    "    def __init__(self):\n",
    "        self.deck = []\n",
    "        for suit in suits:\n",
    "            for rank in ranks:\n",
    "                created_card = Card(suit,rank)\n",
    "                self.deck.append(created_card)\n",
    "    \n",
    "    def __str__(self):\n",
    "        deck_comp = ''\n",
    "        for card in self.deck:\n",
    "            deck.comp += '\\n' +card.__str__()\n",
    "        return 'The deck contains: '+ deck_comp\n",
    "    \n",
    "    def shuffle(self):\n",
    "        random.shuffle(self.deck)\n",
    "        \n",
    "    def deal(self):\n",
    "        single_card = self.deck.pop()\n",
    "        return single_card"
   ]
  },
  {
   "cell_type": "markdown",
   "id": "ff66def4",
   "metadata": {},
   "source": [
    "3. The Hand Class represents the cards in the Player's hand. We must adjust for the Ace card to be a value of 1 or 11, whichever will be beneficial to the Player."
   ]
  },
  {
   "cell_type": "code",
   "execution_count": null,
   "id": "7dfe4062",
   "metadata": {},
   "outputs": [],
   "source": [
    "class Hand():\n",
    "    \n",
    "    def __init__(self):\n",
    "        self.cards = []\n",
    "        self.value = 0 \n",
    "        self.aces = 0\n",
    "        \n",
    "    def add_card(self,card):\n",
    "        self.cards.append(card)\n",
    "        self.value += values[card.rank]\n",
    "        \n",
    "        if card.rank == 'Ace':\n",
    "            self.aces += 1\n",
    "            \n",
    "    def adjust_for_ace(self):\n",
    "        while self.value > 21 and self.aces > 0:\n",
    "            self.value -= 10\n",
    "            self.aces -= 1"
   ]
  },
  {
   "cell_type": "markdown",
   "id": "1e1330e8",
   "metadata": {},
   "source": [
    "4. The Chip Class keeps track of the number of chips the Player has available to make bets."
   ]
  },
  {
   "cell_type": "code",
   "execution_count": null,
   "id": "fb614f14",
   "metadata": {},
   "outputs": [],
   "source": [
    "class Chips():\n",
    "    \n",
    "    def __init__(self,total=100):\n",
    "        self.total = total\n",
    "        self.bet = 0\n",
    "        \n",
    "    def win_bet(self):\n",
    "        self.total += self.bet\n",
    "    \n",
    "    def lose_bet(self):\n",
    "        self.total -= self.bet"
   ]
  },
  {
   "cell_type": "markdown",
   "id": "5cd813a9",
   "metadata": {},
   "source": [
    "5. The function 'take_bet' will allow the Player to place their bet, check whether it is a valid input and if there are enough chips to make that respective bet."
   ]
  },
  {
   "cell_type": "code",
   "execution_count": null,
   "id": "a0ef0309",
   "metadata": {},
   "outputs": [],
   "source": [
    "def take_bet(chips):\n",
    "    \n",
    "    while True:\n",
    "        try:\n",
    "            chips.bet = int(input(\"How many chips would you like to bet? \"))\n",
    "        except:\n",
    "            print(\"Sorry, that was an invalid input! Please enter an integer\")\n",
    "         \n",
    "        else:\n",
    "            if chips.bet > chips.total:\n",
    "                print(\"Sorry! You do not have sufficient chips to place that bet\")\n",
    "                print(f\"You have {chips.total} chips\")\n",
    "            else:\n",
    "                break"
   ]
  },
  {
   "cell_type": "markdown",
   "id": "014295a3",
   "metadata": {},
   "source": [
    "6. This function adds another card to the Player's hand when he choses the Hit option."
   ]
  },
  {
   "cell_type": "code",
   "execution_count": null,
   "id": "87adc7de",
   "metadata": {},
   "outputs": [],
   "source": [
    "def hit(deck,hand):\n",
    "    \n",
    "    single_card = deck.deal()\n",
    "    hand.add_card(single_card)\n",
    "    hand.adjust_for_ace()"
   ]
  },
  {
   "cell_type": "code",
   "execution_count": null,
   "id": "ce4a8e22",
   "metadata": {},
   "outputs": [],
   "source": [
    "def hit_or_stand(deck,hand):\n",
    "    global playing\n",
    "    \n",
    "    while True:\n",
    "        x = input(\"Would you like to hit or stand? Enter h or s: \")\n",
    "        \n",
    "        if x[0].lower() == 'h':\n",
    "            hit(deck,hand)\n",
    "        \n",
    "        elif x[0].lower() == 's':\n",
    "            print(\"Player chose to stand \\nDealer's turn\")\n",
    "            playing = False\n",
    "            \n",
    "        else:\n",
    "            print(\"Invalid input! Please enter h or s: \")\n",
    "            continue\n",
    "        break"
   ]
  },
  {
   "cell_type": "markdown",
   "id": "e9d63f30",
   "metadata": {},
   "source": [
    "7. These functions will display the cards in both the Dealer and Player's hand."
   ]
  },
  {
   "cell_type": "code",
   "execution_count": null,
   "id": "b50b95db",
   "metadata": {},
   "outputs": [],
   "source": [
    "def show_some(player,dealer):\n",
    "    print(\"\\nDEALER'S HAND: \")\n",
    "    print(\"Dealer's first card remains hidden!\")\n",
    "    print(dealer.cards[1])\n",
    "    \n",
    "    print(\"\\nPLAYER'S HAND: \")\n",
    "    for card in player.cards:\n",
    "        print(card)\n",
    "        \n",
    "def show_all(player,dealer):\n",
    "    print(\"\\nDEALER'S HAND: \")\n",
    "    for card in dealer.cards:\n",
    "        print(card)\n",
    "        \n",
    "    print(f\"VALUE OF DEALER'S HAND: {dealer.value}\")\n",
    "    \n",
    "    print(\"\\nPLAYER'S HAND: \")\n",
    "    for card in player.cards:\n",
    "        print(card)\n",
    "        \n",
    "    print(f\"VALUE OF PLAYER'S HAND: {player.value}\")"
   ]
  },
  {
   "cell_type": "markdown",
   "id": "b5d5b400",
   "metadata": {},
   "source": [
    "8. These functions will print the corresponding statements depending on the outcome of the game."
   ]
  },
  {
   "cell_type": "code",
   "execution_count": null,
   "id": "ada1f031",
   "metadata": {},
   "outputs": [],
   "source": [
    "def player_busts(player,dealer,chips):\n",
    "    print(\"PLAYER HAS GONE BUST! DEALER WINS!\")\n",
    "    \n",
    "def player_wins(player,dealer,chips):\n",
    "    print(\"CONGRATULATIONS! PLAYER HAS WON THE GAME!\")\n",
    "    \n",
    "def dealer_busts(player,dealer,chips):\n",
    "    print(\"DEALER HAS GONE BUST! PLAYER WINS!\")\n",
    "    \n",
    "def dealer_wins(player,dealer,chips):\n",
    "    print(\"OH NO! DEALER HAS WON THE GAME!\")\n",
    "    \n",
    "def push(player,dealer):\n",
    "    print(\"IT'S A TIE! TIME TO PUSH!\")"
   ]
  },
  {
   "cell_type": "markdown",
   "id": "dd49ddff",
   "metadata": {},
   "source": [
    "9. Using while loops to run the game."
   ]
  },
  {
   "cell_type": "code",
   "execution_count": null,
   "id": "d4aa3eec",
   "metadata": {},
   "outputs": [],
   "source": [
    "while True:\n",
    "    print(\"HELLO! WELCOME TO THE GAME OF BLACKJACK!\")\n",
    "    \n",
    "    deck = Deck()\n",
    "    deck.shuffle()\n",
    "    \n",
    "    player_hand = Hand()\n",
    "    player_hand.add_card(deck.deal())\n",
    "    player_hand.add_card(deck.deal())\n",
    "    \n",
    "    dealer_hand = Hand()\n",
    "    dealer_hand.add_card(deck.deal())\n",
    "    dealer_hand.add_card(deck.deal())\n",
    "    \n",
    "    player_chips = Chips()\n",
    "    take_bet(player_chips)\n",
    "    \n",
    "    show_some(player_hand,dealer_hand)\n",
    "    \n",
    "    while playing:\n",
    "        hit_or_stand(deck,player_hand)\n",
    "        show_some(player_hand,dealer_hand)\n",
    "        \n",
    "        if player_hand.value > 21:\n",
    "            player_busts(player_hand,dealer_hand,player_chips)\n",
    "            break\n",
    "            \n",
    "    if player_hand.value <= 21:\n",
    "        \n",
    "        while dealer_hand.value < 17:\n",
    "            hit(deck,dealer_hand)\n",
    "            show_all(player_hand,dealer_hand)\n",
    "            \n",
    "            if dealer_hand.value > 17:\n",
    "                dealer_busts(player_hand,dealer_hand,player_chips)\n",
    "                    \n",
    "            elif dealer_hand.value > player_hand.value:\n",
    "                dealer_wins(player_hand,dealer_hand,player_chips)\n",
    "                    \n",
    "            elif dealer_hand.value < player_hand.value:\n",
    "                player_wins(player_hand,dealer_hand,player_chips)\n",
    "                    \n",
    "            else:\n",
    "                push(player_hand,dealer_hand)\n",
    "                \n",
    "                \n",
    "    print(\"\\nPLAYER'S WINNINGS STAND AT: \",player_chips.total)\n",
    "    \n",
    "    new_game = input(\"Would you like to play again? Yes or No?: \")\n",
    "    \n",
    "    if new_game[0].lower() == 'y':\n",
    "        playing = True\n",
    "        continue\n",
    "        \n",
    "    else:\n",
    "        print(\"Thanks for playing! Goodbye!\")\n",
    "        break\n",
    "    "
   ]
  }
 ],
 "metadata": {
  "kernelspec": {
   "display_name": "Python 3 (ipykernel)",
   "language": "python",
   "name": "python3"
  },
  "language_info": {
   "codemirror_mode": {
    "name": "ipython",
    "version": 3
   },
   "file_extension": ".py",
   "mimetype": "text/x-python",
   "name": "python",
   "nbconvert_exporter": "python",
   "pygments_lexer": "ipython3",
   "version": "3.11.4"
  }
 },
 "nbformat": 4,
 "nbformat_minor": 5
}
